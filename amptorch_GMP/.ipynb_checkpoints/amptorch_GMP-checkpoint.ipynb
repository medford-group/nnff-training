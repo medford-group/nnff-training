{
 "cells": [
  {
   "cell_type": "markdown",
   "id": "coordinate-reality",
   "metadata": {},
   "source": [
    "# Training with AMPtorch\n",
    "\n",
    "Edited by N. Hu\n",
    "Medford Research Group at Georgia Tech\n",
    "06/25/2021\n",
    "\n",
    "This ipython notebook is based on the sample scripts provided by AMPtorch (`amptorch/example/GMP`) for GMP atomic environment fingerprinting scheme specifically.\n",
    "\n",
    "This paper introduces the basics and the formulation of Gaussian Multi-pole (GMP): \n",
    "<https://arxiv.org/abs/2102.02390?utm_source=feedburner&utm_medium=feed&utm_campaign=Feed%253A+arxiv%252FQSXk+%2528ExcitingAds%2521+cs+updates+on+arXiv.org%2529>\n",
    "\n",
    "\n",
    "## Preparation: Install AMPtorch with conda\n",
    "\n",
    "Please follow the instructions as shown in the github repo to install AMPtorch and its dependencies: <https://github.com/ulissigroup/amptorch/tree/MCSH_paper1_lmdb>\n",
    "\n",
    "## Training on 2D water dataset with GMP"
   ]
  },
  {
   "cell_type": "code",
   "execution_count": 1,
   "id": "collect-belarus",
   "metadata": {},
   "outputs": [],
   "source": [
    "import numpy as np\n",
    "import torch\n",
    "from ase import Atoms\n",
    "import ase.io\n",
    "\n",
    "from amptorch.ase_utils import AMPtorch\n",
    "from amptorch.trainer import AtomsTrainer\n",
    "\n",
    "from ase.build import molecule\n",
    "import matplotlib.pyplot as plt"
   ]
  },
  {
   "cell_type": "markdown",
   "id": "national-treasure",
   "metadata": {},
   "source": [
    "### Construct the training dataset\n",
    "\n",
    "As an example of the training dataset, we calculate the potential energy and forces for 2-D single water potential energy surface. This dataset is calculated by Quantem Espresso (xc, PBE. kpts, (1,1,1). Planewave, 500.) One O-H bond length is fixed, and the other O-H length and the H-O-H bond angle are allowed to vary. \n",
    "\n",
    "Required information in the training datasets contains:\n",
    "1. cell size\n",
    "2. periodic boundary conditions\n",
    "3. atomic positions\n",
    "4. potential energy\n",
    "5. forces, if doing force training"
   ]
  },
  {
   "cell_type": "code",
   "execution_count": 2,
   "id": "alternative-starter",
   "metadata": {},
   "outputs": [
    {
     "name": "stderr",
     "output_type": "stream",
     "text": [
      "/home/yhu459/miniconda3/envs/amptorch_MCSH/lib/python3.6/site-packages/ase/io/jsonio.py:122: VisibleDeprecationWarning: Creating an ndarray from ragged nested sequences (which is a list-or-tuple of lists-or-tuples-or ndarrays with different lengths or shapes) is deprecated. If you meant to do this, you must specify 'dtype=object' when creating the ndarray\n",
      "  a = np.array(obj)\n"
     ]
    },
    {
     "data": {
      "text/plain": [
       "101"
      ]
     },
     "execution_count": 2,
     "metadata": {},
     "output_type": "execute_result"
    }
   ],
   "source": [
    "# get training images by reading trajectory files\n",
    "\n",
    "# read all images from the trajectory\n",
    "# training = ase.io.read(\"./data/single_water_2D.traj\", index=\":\")\n",
    "\n",
    "# read every 10th image from the trajectory\n",
    "training = ase.io.read(\"./data/single_water_2D.traj\", index=\"::10\")\n",
    "\n",
    "# print the length of the image\n",
    "len(training)"
   ]
  },
  {
   "cell_type": "code",
   "execution_count": 3,
   "id": "differential-syria",
   "metadata": {},
   "outputs": [
    {
     "name": "stdout",
     "output_type": "stream",
     "text": [
      "Cell([10.0, 10.0, 10.0])\n",
      "[ True  True  True]\n",
      "[[5.         5.         5.2981545 ]\n",
      " [5.         5.763239   4.7018455 ]\n",
      " [5.87240588 3.09291855 4.26505605]]\n",
      "-593.3815601078402\n",
      "[[ 0.          0.          0.        ]\n",
      " [ 0.          0.          0.        ]\n",
      " [-0.6816002   1.67015579  0.67090199]]\n",
      "Atoms(symbols='OH2', pbc=True, cell=[10.0, 10.0, 10.0], momenta=..., constraint=FixAtoms(indices=[0, 1]), calculator=SinglePointCalculator(...))\n"
     ]
    }
   ],
   "source": [
    "# check the information\n",
    "\n",
    "print(training[0].get_cell())\n",
    "\n",
    "print(training[0].get_pbc())\n",
    "\n",
    "print(training[0].get_positions())\n",
    "\n",
    "print(training[0].get_potential_energy())\n",
    "\n",
    "print(training[0].get_forces())\n",
    "\n",
    "print(training[0])"
   ]
  },
  {
   "cell_type": "markdown",
   "id": "subtle-arcade",
   "metadata": {},
   "source": [
    "### Define fingerprinting scheme\n",
    "\n",
    "Here we demonstrate with the GMP fingerprinting scheme. It requires the fitted pseduo-potentials of every elements. Access to the fitted pseduo-potentials:\n",
    "<https://github.com/ulissigroup/amptorch/tree/MCSH_paper1_lmdb/examples/GMP/valence_gaussians>\n",
    "\n",
    "Like G2 and G4 symmetry functions, GMP uses sigmas to probe in the radial coordinates and use MCSHs to probe in the angular coordinates."
   ]
  },
  {
   "cell_type": "code",
   "execution_count": 4,
   "id": "permanent-picnic",
   "metadata": {},
   "outputs": [],
   "source": [
    "sigmas = [0.02, 0.2, 0.4, 0.69, 1.1, 1.66, 2.66, 4.4]\n",
    "\n",
    "MCSHs = {\n",
    "    \"MCSHs\": {\n",
    "        \"0\": {\"groups\": [1], \"sigmas\": sigmas},\n",
    "        \"1\": {\"groups\": [1], \"sigmas\": sigmas},\n",
    "        \"2\": {\"groups\": [1, 2], \"sigmas\": sigmas},\n",
    "        \"3\": {\"groups\": [1, 2, 3], \"sigmas\": sigmas},\n",
    "        # \"4\": {\"groups\": [1, 2, 3, 4], \"sigmas\": sigmas},\n",
    "        # \"5\": {\"groups\": [1, 2, 3, 4, 5], \"sigmas\": sigmas},\n",
    "        # \"6\": {\"groups\": [1, 2, 3, 4, 5, 6, 7], \"sigmas\": sigmas},\n",
    "    },\n",
    "    \"atom_gaussians\": {\n",
    "        \"H\": \"./valence_gaussians/H_pseudodensity_2.g\",\n",
    "        \"O\": \"./valence_gaussians/O_pseudodensity_4.g\",\n",
    "    },\n",
    "    \"cutoff\": 8,\n",
    "}\n",
    "\n",
    "elements = [\"H\", \"O\"]"
   ]
  },
  {
   "cell_type": "markdown",
   "id": "owned-cleaners",
   "metadata": {},
   "source": [
    "### Define the configuration for trainer object\n",
    "\n",
    "Detailed introductions and other specifications supported in trainer object can be found here under Section Usage/Configs: \n",
    "<https://github.com/ulissigroup/amptorch/tree/MCSH_paper1_lmdb>"
   ]
  },
  {
   "cell_type": "code",
   "execution_count": 5,
   "id": "loving-rochester",
   "metadata": {},
   "outputs": [],
   "source": [
    "config = {\n",
    "    \"model\": {\n",
    "        \"get_forces\": True,\n",
    "        \"num_layers\": 3,\n",
    "        \"num_nodes\": 5,\n",
    "        \"batchnorm\": False,\n",
    "    },\n",
    "    \"optim\": {\n",
    "        \"force_coefficient\": 0.04,\n",
    "        \"lr\": 1e-2,\n",
    "        \"batch_size\": 32,\n",
    "        \"epochs\": 100,\n",
    "        \"loss\": \"mse\",\n",
    "        \"metric\": \"mae\",\n",
    "        \"gpus\": 0,\n",
    "    },\n",
    "    \"dataset\": {\n",
    "        \"raw_data\": training,\n",
    "        \"fp_scheme\": \"gmp\",\n",
    "        \"fp_params\": MCSHs,\n",
    "        \"elements\": elements,\n",
    "        \"save_fps\": True,\n",
    "        \"scaling\": {\"type\": \"normalize\", \"range\": (0, 1)},\n",
    "        \"val_split\": 0,\n",
    "    },\n",
    "    \"cmd\": {\n",
    "        \"debug\": False,\n",
    "        \"run_dir\": \"./\",\n",
    "        \"seed\": 1,\n",
    "        \"identifier\": \"test\",\n",
    "        \"verbose\": True,\n",
    "        # Weights and Biases used for logging - an account(free) is required\n",
    "        \"logger\": False,\n",
    "    },\n",
    "}"
   ]
  },
  {
   "cell_type": "markdown",
   "id": "union-hands",
   "metadata": {},
   "source": [
    "### Hit go and train"
   ]
  },
  {
   "cell_type": "code",
   "execution_count": 6,
   "id": "acknowledged-recommendation",
   "metadata": {},
   "outputs": [
    {
     "name": "stdout",
     "output_type": "stream",
     "text": [
      "Results saved to ./checkpoints/2021-07-01-12-19-08-test\n"
     ]
    },
    {
     "data": {
      "application/vnd.jupyter.widget-view+json": {
       "model_id": "9e63575af80b4ff28ef7c013edf02512",
       "version_major": 2,
       "version_minor": 0
      },
      "text/plain": [
       "HBox(children=(FloatProgress(value=0.0, description='converting ASE atoms collection to Data objects', max=101…"
      ]
     },
     "metadata": {},
     "output_type": "display_data"
    },
    {
     "name": "stdout",
     "output_type": "stream",
     "text": [
      "\n"
     ]
    },
    {
     "data": {
      "application/vnd.jupyter.widget-view+json": {
       "model_id": "89214e3b771544658790697a3f0c1577",
       "version_major": 2,
       "version_minor": 0
      },
      "text/plain": [
       "HBox(children=(FloatProgress(value=0.0, description='Scaling Feature data (normalize)', max=101.0, style=Progr…"
      ]
     },
     "metadata": {},
     "output_type": "display_data"
    },
    {
     "name": "stdout",
     "output_type": "stream",
     "text": [
      "\n"
     ]
    },
    {
     "data": {
      "application/vnd.jupyter.widget-view+json": {
       "model_id": "2a9ef2e48c104816911221061f8cc26f",
       "version_major": 2,
       "version_minor": 0
      },
      "text/plain": [
       "HBox(children=(FloatProgress(value=0.0, description='Scaling Target data', max=101.0, style=ProgressStyle(desc…"
      ]
     },
     "metadata": {},
     "output_type": "display_data"
    },
    {
     "name": "stdout",
     "output_type": "stream",
     "text": [
      "\n",
      "Loading dataset: 101 images\n",
      "Loading model: 842 parameters\n",
      "Loading skorch trainer\n",
      "  epoch    train_energy_mae    train_forces_mae    train_loss    cp     dur\n",
      "-------  ------------------  ------------------  ------------  ----  ------\n",
      "      1              \u001b[36m0.3956\u001b[0m              \u001b[32m0.4241\u001b[0m        \u001b[35m0.4372\u001b[0m     +  0.0642\n",
      "      2              \u001b[36m0.2170\u001b[0m              0.5340        \u001b[35m0.3745\u001b[0m     +  0.0202\n",
      "      3              \u001b[36m0.2004\u001b[0m              0.5141        \u001b[35m0.3542\u001b[0m     +  0.0201\n",
      "      4              0.2551              0.4923        \u001b[35m0.3322\u001b[0m        0.0202\n",
      "      5              \u001b[36m0.1872\u001b[0m              0.5031        \u001b[35m0.3035\u001b[0m     +  0.0198\n",
      "      6              \u001b[36m0.1835\u001b[0m              0.4573        \u001b[35m0.2761\u001b[0m     +  0.0203\n",
      "      7              0.1946              \u001b[32m0.3793\u001b[0m        0.7012        0.0200\n",
      "      8              \u001b[36m0.1665\u001b[0m              \u001b[32m0.3547\u001b[0m        \u001b[35m0.1945\u001b[0m     +  0.0198\n"
     ]
    },
    {
     "name": "stderr",
     "output_type": "stream",
     "text": [
      "<string>:6: VisibleDeprecationWarning: Creating an ndarray from ragged nested sequences (which is a list-or-tuple of lists-or-tuples-or ndarrays with different lengths or shapes) is deprecated. If you meant to do this, you must specify 'dtype=object' when creating the ndarray\n"
     ]
    },
    {
     "name": "stdout",
     "output_type": "stream",
     "text": [
      "      9              \u001b[36m0.1349\u001b[0m              \u001b[32m0.3393\u001b[0m        \u001b[35m0.1535\u001b[0m     +  0.0204\n",
      "     10              0.1354              \u001b[32m0.3209\u001b[0m        \u001b[35m0.1216\u001b[0m        0.0201\n",
      "     11              \u001b[36m0.0977\u001b[0m              \u001b[32m0.3119\u001b[0m        \u001b[35m0.0839\u001b[0m     +  0.0198\n",
      "     12              \u001b[36m0.0681\u001b[0m              0.3132        \u001b[35m0.0566\u001b[0m     +  0.0204\n",
      "     13              \u001b[36m0.0529\u001b[0m              \u001b[32m0.2863\u001b[0m        0.0919     +  0.0217\n",
      "     14              0.0696              \u001b[32m0.2672\u001b[0m        \u001b[35m0.0244\u001b[0m        0.0216\n",
      "     15              \u001b[36m0.0523\u001b[0m              \u001b[32m0.2665\u001b[0m        \u001b[35m0.0160\u001b[0m     +  0.0220\n",
      "     16              0.0578              \u001b[32m0.2600\u001b[0m        0.0167        0.0229\n",
      "     17              \u001b[36m0.0448\u001b[0m              \u001b[32m0.2564\u001b[0m        0.0164     +  0.0199\n",
      "     18              0.0455              0.2598        0.0176        0.0204\n",
      "     19              \u001b[36m0.0440\u001b[0m              \u001b[32m0.2546\u001b[0m        0.0805     +  0.0200\n",
      "     20              0.1232              0.2718        0.0222        0.0203\n",
      "     21              0.0845              0.3059        \u001b[35m0.0145\u001b[0m        0.0200\n",
      "     22              0.0754              0.2940        0.0502        0.0200\n",
      "     23              0.1222              0.2953        0.0202        0.0198\n",
      "     24              0.0900              0.3000        0.0150        0.0197\n",
      "     25              0.0669              0.2888        0.0147        0.0198\n",
      "     26              \u001b[36m0.0358\u001b[0m              0.2836        \u001b[35m0.0087\u001b[0m     +  0.0197\n",
      "     27              \u001b[36m0.0339\u001b[0m              0.2807        0.0179     +  0.0202\n",
      "     28              0.0507              0.2834        \u001b[35m0.0086\u001b[0m        0.0200\n",
      "     29              0.0551              0.2935        0.0095        0.0200\n",
      "     30              0.0393              0.2977        0.0111        0.0199\n",
      "     31              0.0435              0.2906        \u001b[35m0.0082\u001b[0m        0.0196\n",
      "     32              \u001b[36m0.0274\u001b[0m              0.2754        0.0085     +  0.0197\n",
      "     33              0.0460              0.2660        \u001b[35m0.0064\u001b[0m        0.0199\n",
      "     34              0.0327              0.2634        \u001b[35m0.0055\u001b[0m        0.0195\n",
      "     35              0.0313              0.2621        0.0058        0.0197\n",
      "     36              0.0286              \u001b[32m0.2541\u001b[0m        \u001b[35m0.0050\u001b[0m        0.0197\n",
      "     37              \u001b[36m0.0244\u001b[0m              \u001b[32m0.2514\u001b[0m        \u001b[35m0.0042\u001b[0m     +  0.0198\n",
      "     38              \u001b[36m0.0181\u001b[0m              \u001b[32m0.2432\u001b[0m        \u001b[35m0.0040\u001b[0m     +  0.0201\n",
      "     39              \u001b[36m0.0144\u001b[0m              \u001b[32m0.2380\u001b[0m        0.0051     +  0.0203\n",
      "     40              0.0171              \u001b[32m0.2347\u001b[0m        \u001b[35m0.0036\u001b[0m        0.0205\n",
      "     41              \u001b[36m0.0124\u001b[0m              \u001b[32m0.2238\u001b[0m        0.0039     +  0.0202\n",
      "     42              \u001b[36m0.0112\u001b[0m              \u001b[32m0.2150\u001b[0m        \u001b[35m0.0029\u001b[0m     +  0.0203\n",
      "     43              0.0136              \u001b[32m0.2084\u001b[0m        0.0030        0.0205\n",
      "     44              0.0127              \u001b[32m0.2040\u001b[0m        \u001b[35m0.0029\u001b[0m        0.0200\n",
      "     45              0.0129              \u001b[32m0.1993\u001b[0m        0.0031        0.0202\n",
      "     46              \u001b[36m0.0109\u001b[0m              \u001b[32m0.1984\u001b[0m        \u001b[35m0.0026\u001b[0m     +  0.0203\n",
      "     47              \u001b[36m0.0106\u001b[0m              \u001b[32m0.1930\u001b[0m        \u001b[35m0.0025\u001b[0m     +  0.0204\n",
      "     48              0.0107              \u001b[32m0.1914\u001b[0m        0.0025        0.0207\n",
      "     49              0.0151              \u001b[32m0.1858\u001b[0m        0.0028        0.0201\n",
      "     50              0.0114              0.1877        0.0027        0.0201\n",
      "     51              \u001b[36m0.0097\u001b[0m              \u001b[32m0.1808\u001b[0m        0.0028     +  0.0201\n",
      "     52              0.0156              0.1823        0.0032        0.0205\n",
      "     53              0.0228              0.1824        0.0025        0.0199\n",
      "     54              0.0199              \u001b[32m0.1806\u001b[0m        \u001b[35m0.0025\u001b[0m        0.0202\n",
      "     55              0.0148              \u001b[32m0.1741\u001b[0m        0.0025        0.0200\n",
      "     56              0.0172              \u001b[32m0.1739\u001b[0m        0.0027        0.0198\n",
      "     57              0.0109              \u001b[32m0.1701\u001b[0m        \u001b[35m0.0022\u001b[0m        0.0199\n",
      "     58              \u001b[36m0.0094\u001b[0m              \u001b[32m0.1685\u001b[0m        \u001b[35m0.0022\u001b[0m     +  0.0198\n",
      "     59              0.0095              \u001b[32m0.1654\u001b[0m        \u001b[35m0.0020\u001b[0m        0.0198\n",
      "     60              \u001b[36m0.0092\u001b[0m              \u001b[32m0.1647\u001b[0m        0.0022     +  0.0192\n",
      "     61              0.0095              \u001b[32m0.1606\u001b[0m        \u001b[35m0.0017\u001b[0m        0.0200\n",
      "     62              0.0141              \u001b[32m0.1589\u001b[0m        \u001b[35m0.0017\u001b[0m        0.0199\n",
      "     63              0.0142              \u001b[32m0.1572\u001b[0m        0.0031        0.0199\n",
      "     64              0.0095              0.1609        \u001b[35m0.0017\u001b[0m        0.0198\n",
      "     65              0.0096              \u001b[32m0.1530\u001b[0m        0.0021        0.0201\n",
      "     66              0.0171              \u001b[32m0.1510\u001b[0m        0.0029        0.0198\n",
      "     67              0.0144              \u001b[32m0.1508\u001b[0m        \u001b[35m0.0017\u001b[0m        0.0193\n",
      "     68              0.0172              \u001b[32m0.1482\u001b[0m        \u001b[35m0.0015\u001b[0m        0.0192\n",
      "     69              0.0145              \u001b[32m0.1455\u001b[0m        0.0022        0.0195\n",
      "     70              0.0149              0.1457        0.0016        0.0192\n",
      "     71              \u001b[36m0.0084\u001b[0m              0.1468        \u001b[35m0.0013\u001b[0m     +  0.0198\n",
      "     72              0.0086              \u001b[32m0.1441\u001b[0m        0.0014        0.0205\n",
      "     73              0.0103              0.1454        \u001b[35m0.0013\u001b[0m        0.0201\n",
      "     74              0.0089              \u001b[32m0.1410\u001b[0m        \u001b[35m0.0013\u001b[0m        0.0200\n",
      "     75              0.0115              0.1420        \u001b[35m0.0012\u001b[0m        0.0200\n",
      "     76              0.0105              \u001b[32m0.1386\u001b[0m        0.0012        0.0199\n",
      "     77              0.0115              \u001b[32m0.1369\u001b[0m        \u001b[35m0.0011\u001b[0m        0.0196\n",
      "     78              0.0138              0.1370        0.0012        0.0195\n",
      "     79              0.0187              \u001b[32m0.1342\u001b[0m        0.0013        0.0198\n",
      "     80              0.0215              0.1362        0.0019        0.0199\n",
      "     81              0.0322              0.1347        0.0022        0.0193\n",
      "     82              0.0282              0.1356        0.0015        0.0193\n",
      "     83              0.0291              \u001b[32m0.1340\u001b[0m        0.0016        0.0193\n",
      "     84              0.0297              0.1384        0.0020        0.0189\n",
      "     85              0.0259              \u001b[32m0.1325\u001b[0m        0.0019        0.0194\n",
      "     86              0.0266              0.1338        0.0015        0.0192\n",
      "     87              0.0292              \u001b[32m0.1307\u001b[0m        0.0016        0.0195\n",
      "     88              0.0224              \u001b[32m0.1305\u001b[0m        0.0015        0.0198\n",
      "     89              0.0179              0.1307        0.0013        0.0196\n",
      "     90              0.0179              \u001b[32m0.1299\u001b[0m        \u001b[35m0.0011\u001b[0m        0.0198\n",
      "     91              0.0227              \u001b[32m0.1264\u001b[0m        0.0014        0.0193\n",
      "     92              0.0180              0.1268        0.0012        0.0196\n",
      "     93              0.0120              \u001b[32m0.1256\u001b[0m        \u001b[35m0.0011\u001b[0m        0.0194\n",
      "     94              0.0138              0.1265        \u001b[35m0.0010\u001b[0m        0.0194\n",
      "     95              0.0135              \u001b[32m0.1243\u001b[0m        0.0010        0.0189\n",
      "     96              0.0109              \u001b[32m0.1232\u001b[0m        \u001b[35m0.0009\u001b[0m        0.0195\n",
      "     97              0.0189              0.1245        0.0011        0.0197\n",
      "     98              0.0111              \u001b[32m0.1221\u001b[0m        0.0010        0.0193\n",
      "     99              0.0179              \u001b[32m0.1218\u001b[0m        0.0015        0.0198\n",
      "    100              0.0138              0.1228        0.0010        0.0195\n",
      "Training completed in 2.32096004486084s\n"
     ]
    },
    {
     "data": {
      "text/plain": [
       "2.32096004486084"
      ]
     },
     "execution_count": 6,
     "metadata": {},
     "output_type": "execute_result"
    }
   ],
   "source": [
    "torch.set_num_threads(1)\n",
    "trainer = AtomsTrainer(config)\n",
    "trainer.train()"
   ]
  },
  {
   "cell_type": "markdown",
   "id": "circular-gathering",
   "metadata": {},
   "source": [
    "### Use the neural network as an ase calculator to make predictions"
   ]
  },
  {
   "cell_type": "code",
   "execution_count": 7,
   "id": "potential-kingston",
   "metadata": {},
   "outputs": [
    {
     "data": {
      "application/vnd.jupyter.widget-view+json": {
       "model_id": "e054f3348fe548bb9a0d75475bc851ab",
       "version_major": 2,
       "version_minor": 0
      },
      "text/plain": [
       "HBox(children=(FloatProgress(value=0.0, description='Scaling Feature data (normalize)', max=101.0, style=Progr…"
      ]
     },
     "metadata": {},
     "output_type": "display_data"
    },
    {
     "name": "stdout",
     "output_type": "stream",
     "text": [
      "\n",
      "Energy MSE: 0.00023594521172652338\n",
      "Energy MAE: 0.007206988867686518\n"
     ]
    },
    {
     "data": {
      "application/vnd.jupyter.widget-view+json": {
       "model_id": "81d134c0487443888bbafca86e708b4e",
       "version_major": 2,
       "version_minor": 0
      },
      "text/plain": [
       "HBox(children=(FloatProgress(value=0.0, description='Scaling Feature data (normalize)', max=1.0, style=Progres…"
      ]
     },
     "metadata": {},
     "output_type": "display_data"
    },
    {
     "name": "stdout",
     "output_type": "stream",
     "text": [
      "\n"
     ]
    },
    {
     "data": {
      "text/plain": [
       "-593.5128173828125"
      ]
     },
     "execution_count": 7,
     "metadata": {},
     "output_type": "execute_result"
    }
   ],
   "source": [
    "predictions = trainer.predict(training)\n",
    "\n",
    "# assess errors\n",
    "\n",
    "true_energies = np.array([image.get_potential_energy() for image in training])\n",
    "pred_energies = np.array(predictions[\"energy\"])\n",
    "\n",
    "print(\"Energy MSE:\", np.mean((true_energies - pred_energies) ** 2))\n",
    "print(\"Energy MAE:\", np.mean(np.abs(true_energies - pred_energies)))\n",
    "\n",
    "training[0].set_calculator(AMPtorch(trainer))\n",
    "training[0].get_potential_energy()"
   ]
  },
  {
   "cell_type": "markdown",
   "id": "higher-round",
   "metadata": {},
   "source": [
    "### Use the fitted model to predict the 1D PES for change in O-H bond length"
   ]
  },
  {
   "cell_type": "code",
   "execution_count": 8,
   "id": "chicken-slide",
   "metadata": {},
   "outputs": [
    {
     "data": {
      "application/vnd.jupyter.widget-view+json": {
       "model_id": "9e88f5ddbc944b678cc6431ca9f06cc1",
       "version_major": 2,
       "version_minor": 0
      },
      "text/plain": [
       "HBox(children=(FloatProgress(value=0.0, description='Scaling Feature data (normalize)', style=ProgressStyle(de…"
      ]
     },
     "metadata": {},
     "output_type": "display_data"
    },
    {
     "name": "stdout",
     "output_type": "stream",
     "text": [
      "\n"
     ]
    }
   ],
   "source": [
    "# set up images with one changing bond length\n",
    "distances = np.linspace(0.8, 1.2, 100)\n",
    "images = []\n",
    "for dist in distances:\n",
    "    image = molecule(\"H2O\", vacuum=10.0)\n",
    "    image.set_cell([10, 10, 10])\n",
    "    image.set_pbc([1, 1, 1])\n",
    "\n",
    "    # change bond length\n",
    "    image.set_distance(0, 2, dist)\n",
    "    images.append(image)\n",
    "\n",
    "predictions = trainer.predict(images)"
   ]
  },
  {
   "cell_type": "code",
   "execution_count": 9,
   "id": "combined-quilt",
   "metadata": {},
   "outputs": [
    {
     "data": {
      "text/plain": [
       "Text(0, 0.5, 'potential energy [eV]')"
      ]
     },
     "execution_count": 9,
     "metadata": {},
     "output_type": "execute_result"
    },
    {
     "data": {
      "image/png": "[encoded data removed]",
      "text/plain": [
       "<Figure size 432x288 with 1 Axes>"
      ]
     },
     "metadata": {
      "needs_background": "light"
     },
     "output_type": "display_data"
    }
   ],
   "source": [
    "plt.plot(distances, predictions[\"energy\"], \".\")\n",
    "plt.xlabel(\"O-H bond length [A]\")\n",
    "plt.ylabel(\"potential energy [eV]\")"
   ]
  }
 ],
 "metadata": {
  "kernelspec": {
   "display_name": "amptorch_MCSH",
   "language": "python",
   "name": "amptorch_mcsh"
  },
  "language_info": {
   "codemirror_mode": {
    "name": "ipython",
    "version": 3
   },
   "file_extension": ".py",
   "mimetype": "text/x-python",
   "name": "python",
   "nbconvert_exporter": "python",
   "pygments_lexer": "ipython3",
   "version": "3.6.12"
  }
 },
 "nbformat": 4,
 "nbformat_minor": 5
}
